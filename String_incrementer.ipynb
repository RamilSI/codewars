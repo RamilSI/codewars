{
  "nbformat": 4,
  "nbformat_minor": 0,
  "metadata": {
    "colab": {
      "name": "String incrementer.ipynb",
      "provenance": [],
      "collapsed_sections": [],
      "authorship_tag": "ABX9TyOMBYvsAHeE8hyFVp/h4xR9",
      "include_colab_link": true
    },
    "kernelspec": {
      "name": "python3",
      "display_name": "Python 3"
    }
  },
  "cells": [
    {
      "cell_type": "markdown",
      "metadata": {
        "id": "view-in-github",
        "colab_type": "text"
      },
      "source": [
        "<a href=\"https://colab.research.google.com/github/RamilSI/codewars/blob/main/String_incrementer.ipynb\" target=\"_parent\"><img src=\"https://colab.research.google.com/assets/colab-badge.svg\" alt=\"Open In Colab\"/></a>"
      ]
    },
    {
      "cell_type": "markdown",
      "metadata": {
        "id": "0VOLfPjwcZBD"
      },
      "source": [
        "Ваша задача - написать функцию, которая увеличивает строку, чтобы создать новую строку.\n",
        "Если строка уже оканчивается числом, число следует увеличить на 1. Если строка не оканчивается цифрой. цифру 1 нужно добавить к новой строке.\n",
        "\n",
        "Примеры: foo -> foo1 foobar23 -> foobar24 foo0042 -> foo0043 foo9 -> foo10 foo099 -> foo100 Внимание: если число имеет ведущие нули, следует учитывать количество цифр."
      ]
    },
    {
      "cell_type": "code",
      "metadata": {
        "id": "VN-p7TnR1pSk"
      },
      "source": [
        "import re"
      ],
      "execution_count": 4,
      "outputs": []
    },
    {
      "cell_type": "code",
      "metadata": {
        "colab": {
          "base_uri": "https://localhost:8080/"
        },
        "id": "jAXWmx_Sec21",
        "outputId": "ad575182-13e4-40bd-f222-ed03f199bc29"
      },
      "source": [
        "a = 'foo'\n",
        "result = re.findall(r'\\d',a)\n",
        "result == []"
      ],
      "execution_count": 93,
      "outputs": [
        {
          "output_type": "execute_result",
          "data": {
            "text/plain": [
              "True"
            ]
          },
          "metadata": {
            "tags": []
          },
          "execution_count": 93
        }
      ]
    },
    {
      "cell_type": "code",
      "metadata": {
        "colab": {
          "base_uri": "https://localhost:8080/"
        },
        "id": "-YNc4-yv7rJF",
        "outputId": "17b588f1-ff04-4d94-aa0f-a4b5086388f9"
      },
      "source": [
        "q = 'foobar'\n",
        "\n",
        "r1 = ''.join(re.findall(r'\\D',q)) # отделяем буквенную часть от цифровой\n",
        "print (r1)\n",
        "result = '1'+''.join(re.findall(r'\\d+',q)) #отделяем цифры от строки и если строка оканчивается на 0, то преписываем слева 1\n",
        "print (result)\n",
        "c = str((int(result))+1) # производим основное правило задачи: увеличиваем окончание на 1\n",
        "print (c)\n",
        "print (c[1:]) # убираем \"лишнюю\" цифру справа \n",
        "print (r1 + c[1:]) #возвращаем результат согласно задания"
      ],
      "execution_count": 90,
      "outputs": [
        {
          "output_type": "stream",
          "text": [
            "foobar\n",
            "1\n",
            "2\n",
            "\n",
            "foobar\n"
          ],
          "name": "stdout"
        }
      ]
    },
    {
      "cell_type": "code",
      "metadata": {
        "colab": {
          "base_uri": "https://localhost:8080/",
          "height": 35
        },
        "id": "e5BHo0ljs_x4",
        "outputId": "ab56a130-654e-4721-8002-45d02430b488"
      },
      "source": [
        "r3+c1"
      ],
      "execution_count": 8,
      "outputs": [
        {
          "output_type": "execute_result",
          "data": {
            "application/vnd.google.colaboratory.intrinsic+json": {
              "type": "string"
            },
            "text/plain": [
              "'foobar24'"
            ]
          },
          "metadata": {
            "tags": []
          },
          "execution_count": 8
        }
      ]
    },
    {
      "cell_type": "code",
      "metadata": {
        "colab": {
          "base_uri": "https://localhost:8080/"
        },
        "id": "cbNdrp4DUBrR",
        "outputId": "04f0bbff-2e52-47d1-ff48-3d392dc73127"
      },
      "source": [
        "int_lst = [int(x) for x in result]\n",
        "print (int_lst)"
      ],
      "execution_count": 52,
      "outputs": [
        {
          "output_type": "stream",
          "text": [
            "[2, 3]\n"
          ],
          "name": "stdout"
        }
      ]
    },
    {
      "cell_type": "code",
      "metadata": {
        "id": "CEtOCKIRuaQT"
      },
      "source": [
        "def increment_string(strng):\n",
        "  if re.findall(r'\\d',strng) == []:\n",
        "    return strng + '1'\n",
        "  else:\n",
        "    r1 = ''.join(re.findall(r'\\D',strng)) # отделяем буквенную часть от цифровой\n",
        "    result = '1'+''.join(re.findall(r'\\d+',strng)) #отделяем цифры от строки и если строка оканчивается на 0, то преписываем слева 1\n",
        "    c = str((int(result))+1) # производим основное правило задачи: увеличиваем окончание на 1\n",
        "    return (r1 + c[1:]) #возвращаем результат согласно задания\n",
        "\n",
        "    "
      ],
      "execution_count": 96,
      "outputs": []
    },
    {
      "cell_type": "code",
      "metadata": {
        "colab": {
          "base_uri": "https://localhost:8080/",
          "height": 35
        },
        "id": "F4kGm7eNtp2L",
        "outputId": "075f7deb-58eb-4874-ff44-b7025ae81efc"
      },
      "source": [
        "strng = 'foobar9'\n",
        "increment_string(strng)"
      ],
      "execution_count": 102,
      "outputs": [
        {
          "output_type": "execute_result",
          "data": {
            "application/vnd.google.colaboratory.intrinsic+json": {
              "type": "string"
            },
            "text/plain": [
              "'foobar0'"
            ]
          },
          "metadata": {
            "tags": []
          },
          "execution_count": 102
        }
      ]
    }
  ]
}