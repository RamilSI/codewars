{
  "nbformat": 4,
  "nbformat_minor": 0,
  "metadata": {
    "colab": {
      "name": "Tap Code Translation.ipynb",
      "provenance": [],
      "collapsed_sections": [],
      "authorship_tag": "ABX9TyN4yYJa1f8G4BHUQ1fA4IMj",
      "include_colab_link": true
    },
    "kernelspec": {
      "name": "python3",
      "display_name": "Python 3"
    },
    "language_info": {
      "name": "python"
    }
  },
  "cells": [
    {
      "cell_type": "markdown",
      "metadata": {
        "id": "view-in-github",
        "colab_type": "text"
      },
      "source": [
        "<a href=\"https://colab.research.google.com/github/RamilSI/codewars/blob/main/Tap_Code_Translation.ipynb\" target=\"_parent\"><img src=\"https://colab.research.google.com/assets/colab-badge.svg\" alt=\"Open In Colab\"/></a>"
      ]
    },
    {
      "cell_type": "code",
      "metadata": {
        "id": "zOYhRbL2tMlT"
      },
      "source": [
        "import numpy as np\n",
        "import pandas as pd"
      ],
      "execution_count": 2,
      "outputs": []
    },
    {
      "cell_type": "code",
      "metadata": {
        "colab": {
          "base_uri": "https://localhost:8080/",
          "height": 204
        },
        "id": "q4iIVCpAsF_8",
        "outputId": "77f3d544-2c46-4c54-fd8d-06cb27b5fe1a"
      },
      "source": [
        "columns = [1,2,3,4,5]\n",
        "values = [['A','B','CK','D','E'], ['F','G','H','I','G'],['M','N','O','P','L'],['Q','R','S','T','U'],['V','W','X','Y','Z']]\n",
        "index = [1,2,3,4,5]\n",
        "df = pd.DataFrame(values, columns=columns, index=index)\n",
        "df"
      ],
      "execution_count": 4,
      "outputs": [
        {
          "output_type": "execute_result",
          "data": {
            "text/html": [
              "<div>\n",
              "<style scoped>\n",
              "    .dataframe tbody tr th:only-of-type {\n",
              "        vertical-align: middle;\n",
              "    }\n",
              "\n",
              "    .dataframe tbody tr th {\n",
              "        vertical-align: top;\n",
              "    }\n",
              "\n",
              "    .dataframe thead th {\n",
              "        text-align: right;\n",
              "    }\n",
              "</style>\n",
              "<table border=\"1\" class=\"dataframe\">\n",
              "  <thead>\n",
              "    <tr style=\"text-align: right;\">\n",
              "      <th></th>\n",
              "      <th>1</th>\n",
              "      <th>2</th>\n",
              "      <th>3</th>\n",
              "      <th>4</th>\n",
              "      <th>5</th>\n",
              "    </tr>\n",
              "  </thead>\n",
              "  <tbody>\n",
              "    <tr>\n",
              "      <th>1</th>\n",
              "      <td>A</td>\n",
              "      <td>B</td>\n",
              "      <td>CK</td>\n",
              "      <td>D</td>\n",
              "      <td>E</td>\n",
              "    </tr>\n",
              "    <tr>\n",
              "      <th>2</th>\n",
              "      <td>F</td>\n",
              "      <td>G</td>\n",
              "      <td>H</td>\n",
              "      <td>I</td>\n",
              "      <td>G</td>\n",
              "    </tr>\n",
              "    <tr>\n",
              "      <th>3</th>\n",
              "      <td>M</td>\n",
              "      <td>N</td>\n",
              "      <td>O</td>\n",
              "      <td>P</td>\n",
              "      <td>L</td>\n",
              "    </tr>\n",
              "    <tr>\n",
              "      <th>4</th>\n",
              "      <td>Q</td>\n",
              "      <td>R</td>\n",
              "      <td>S</td>\n",
              "      <td>T</td>\n",
              "      <td>U</td>\n",
              "    </tr>\n",
              "    <tr>\n",
              "      <th>5</th>\n",
              "      <td>V</td>\n",
              "      <td>W</td>\n",
              "      <td>X</td>\n",
              "      <td>Y</td>\n",
              "      <td>Z</td>\n",
              "    </tr>\n",
              "  </tbody>\n",
              "</table>\n",
              "</div>"
            ],
            "text/plain": [
              "   1  2   3  4  5\n",
              "1  A  B  CK  D  E\n",
              "2  F  G   H  I  G\n",
              "3  M  N   O  P  L\n",
              "4  Q  R   S  T  U\n",
              "5  V  W   X  Y  Z"
            ]
          },
          "metadata": {
            "tags": []
          },
          "execution_count": 4
        }
      ]
    },
    {
      "cell_type": "code",
      "metadata": {
        "id": "ecxdCDqHNSOz"
      },
      "source": [
        "text = \"breaks\"\n",
        "t = list(text.upper())[0]"
      ],
      "execution_count": 6,
      "outputs": []
    },
    {
      "cell_type": "code",
      "metadata": {
        "id": "HlGwJ7FpBsB1"
      },
      "source": [
        ".... .... . . ... .... .... ...\n",
        ".... .... . . ... ..... .... ...\n",
        ".... .... . . ... ..... .... ..."
      ],
      "execution_count": null,
      "outputs": []
    },
    {
      "cell_type": "code",
      "metadata": {
        "id": "M6gCOtP_UGjt"
      },
      "source": [
        "def tap_code_translation(text):\n",
        "  t1 = ('')\n",
        "  import pandas as pd\n",
        "  columns = [1,2,3,4,5]\n",
        "  values = [['A','B','CK','D','E'], ['F','G','H','I','G'],['M','N','O','P','L'],['Q','R','S','T','U'],['V','W','X','Y','Z']]\n",
        "  index = [1,2,3,4,5]\n",
        "  df = pd.DataFrame(values, columns=columns, index=index)\n",
        "\n",
        "  for k in list(text.upper()):\n",
        "    for col in df:\n",
        "        for i, row_value in df[col].iteritems():\n",
        "            if df[col][i] == k or k in df[col][i]:\n",
        "              t = '.'*i + ' '+'.'*col+' '\n",
        "              t1 +=t\n",
        "              print (t1)\n",
        "  return (t1.rstrip(' '))"
      ],
      "execution_count": 59,
      "outputs": []
    },
    {
      "cell_type": "code",
      "metadata": {
        "colab": {
          "base_uri": "https://localhost:8080/",
          "height": 137
        },
        "id": "EaX0H8o778ZI",
        "outputId": "723d14f4-99fa-4d4f-efd3-3b7d273ed04e"
      },
      "source": [
        "tap_code_translation(text)"
      ],
      "execution_count": 60,
      "outputs": [
        {
          "output_type": "stream",
          "text": [
            ". .. \n",
            ". .. .... .. \n",
            ". .. .... .. . ..... \n",
            ". .. .... .. . ..... . . \n",
            ". .. .... .. . ..... . . . ... \n",
            ". .. .... .. . ..... . . . ... .... ... \n"
          ],
          "name": "stdout"
        },
        {
          "output_type": "execute_result",
          "data": {
            "application/vnd.google.colaboratory.intrinsic+json": {
              "type": "string"
            },
            "text/plain": [
              "'. .. .... .. . ..... . . . ... .... ...'"
            ]
          },
          "metadata": {
            "tags": []
          },
          "execution_count": 60
        }
      ]
    },
    {
      "cell_type": "code",
      "metadata": {
        "colab": {
          "base_uri": "https://localhost:8080/",
          "height": 204
        },
        "id": "Qi3B4dGxdkMs",
        "outputId": "301c59ad-c7b8-40c2-9cca-e72037881140"
      },
      "source": [
        "df[df=='A'].isna()"
      ],
      "execution_count": 25,
      "outputs": [
        {
          "output_type": "execute_result",
          "data": {
            "text/html": [
              "<div>\n",
              "<style scoped>\n",
              "    .dataframe tbody tr th:only-of-type {\n",
              "        vertical-align: middle;\n",
              "    }\n",
              "\n",
              "    .dataframe tbody tr th {\n",
              "        vertical-align: top;\n",
              "    }\n",
              "\n",
              "    .dataframe thead th {\n",
              "        text-align: right;\n",
              "    }\n",
              "</style>\n",
              "<table border=\"1\" class=\"dataframe\">\n",
              "  <thead>\n",
              "    <tr style=\"text-align: right;\">\n",
              "      <th></th>\n",
              "      <th>1</th>\n",
              "      <th>2</th>\n",
              "      <th>3</th>\n",
              "      <th>4</th>\n",
              "      <th>5</th>\n",
              "    </tr>\n",
              "  </thead>\n",
              "  <tbody>\n",
              "    <tr>\n",
              "      <th>1</th>\n",
              "      <td>False</td>\n",
              "      <td>True</td>\n",
              "      <td>True</td>\n",
              "      <td>True</td>\n",
              "      <td>True</td>\n",
              "    </tr>\n",
              "    <tr>\n",
              "      <th>2</th>\n",
              "      <td>True</td>\n",
              "      <td>True</td>\n",
              "      <td>True</td>\n",
              "      <td>True</td>\n",
              "      <td>True</td>\n",
              "    </tr>\n",
              "    <tr>\n",
              "      <th>3</th>\n",
              "      <td>True</td>\n",
              "      <td>True</td>\n",
              "      <td>True</td>\n",
              "      <td>True</td>\n",
              "      <td>True</td>\n",
              "    </tr>\n",
              "    <tr>\n",
              "      <th>4</th>\n",
              "      <td>True</td>\n",
              "      <td>True</td>\n",
              "      <td>True</td>\n",
              "      <td>True</td>\n",
              "      <td>True</td>\n",
              "    </tr>\n",
              "    <tr>\n",
              "      <th>5</th>\n",
              "      <td>True</td>\n",
              "      <td>True</td>\n",
              "      <td>True</td>\n",
              "      <td>True</td>\n",
              "      <td>True</td>\n",
              "    </tr>\n",
              "  </tbody>\n",
              "</table>\n",
              "</div>"
            ],
            "text/plain": [
              "       1     2     3     4     5\n",
              "1  False  True  True  True  True\n",
              "2   True  True  True  True  True\n",
              "3   True  True  True  True  True\n",
              "4   True  True  True  True  True\n",
              "5   True  True  True  True  True"
            ]
          },
          "metadata": {
            "tags": []
          },
          "execution_count": 25
        }
      ]
    },
    {
      "cell_type": "code",
      "metadata": {
        "colab": {
          "base_uri": "https://localhost:8080/",
          "height": 204
        },
        "id": "ZVfr7aIV2Bg3",
        "outputId": "a9313398-4965-40ba-b037-7d7ab53d54df"
      },
      "source": [
        "d = {\n",
        "    'AtomicNumber': [1, 2, 3, 4, 5],\n",
        "    'Element': ['Hydrogen', 'Helium', 'Lithium', 'Beryllium', 'Boron'],\n",
        "    'Symbol': ['H', 'He', 'Li', 'Be', 'B'],\n",
        "    'BoilingPoint': [20.28, 4.22, 1615.00, 2742.00, 4200.00],\n",
        "}\n",
        "df = pd.DataFrame(d)\n",
        "df"
      ],
      "execution_count": 3,
      "outputs": [
        {
          "output_type": "execute_result",
          "data": {
            "text/html": [
              "<div>\n",
              "<style scoped>\n",
              "    .dataframe tbody tr th:only-of-type {\n",
              "        vertical-align: middle;\n",
              "    }\n",
              "\n",
              "    .dataframe tbody tr th {\n",
              "        vertical-align: top;\n",
              "    }\n",
              "\n",
              "    .dataframe thead th {\n",
              "        text-align: right;\n",
              "    }\n",
              "</style>\n",
              "<table border=\"1\" class=\"dataframe\">\n",
              "  <thead>\n",
              "    <tr style=\"text-align: right;\">\n",
              "      <th></th>\n",
              "      <th>AtomicNumber</th>\n",
              "      <th>Element</th>\n",
              "      <th>Symbol</th>\n",
              "      <th>BoilingPoint</th>\n",
              "    </tr>\n",
              "  </thead>\n",
              "  <tbody>\n",
              "    <tr>\n",
              "      <th>0</th>\n",
              "      <td>1</td>\n",
              "      <td>Hydrogen</td>\n",
              "      <td>H</td>\n",
              "      <td>20.28</td>\n",
              "    </tr>\n",
              "    <tr>\n",
              "      <th>1</th>\n",
              "      <td>2</td>\n",
              "      <td>Helium</td>\n",
              "      <td>He</td>\n",
              "      <td>4.22</td>\n",
              "    </tr>\n",
              "    <tr>\n",
              "      <th>2</th>\n",
              "      <td>3</td>\n",
              "      <td>Lithium</td>\n",
              "      <td>Li</td>\n",
              "      <td>1615.00</td>\n",
              "    </tr>\n",
              "    <tr>\n",
              "      <th>3</th>\n",
              "      <td>4</td>\n",
              "      <td>Beryllium</td>\n",
              "      <td>Be</td>\n",
              "      <td>2742.00</td>\n",
              "    </tr>\n",
              "    <tr>\n",
              "      <th>4</th>\n",
              "      <td>5</td>\n",
              "      <td>Boron</td>\n",
              "      <td>B</td>\n",
              "      <td>4200.00</td>\n",
              "    </tr>\n",
              "  </tbody>\n",
              "</table>\n",
              "</div>"
            ],
            "text/plain": [
              "   AtomicNumber    Element Symbol  BoilingPoint\n",
              "0             1   Hydrogen      H         20.28\n",
              "1             2     Helium     He          4.22\n",
              "2             3    Lithium     Li       1615.00\n",
              "3             4  Beryllium     Be       2742.00\n",
              "4             5      Boron      B       4200.00"
            ]
          },
          "metadata": {
            "tags": []
          },
          "execution_count": 3
        }
      ]
    },
    {
      "cell_type": "code",
      "metadata": {
        "colab": {
          "base_uri": "https://localhost:8080/"
        },
        "id": "0cmYoEUK2JSw",
        "outputId": "eb446dcb-8ef1-4ba4-d934-8370034d3560"
      },
      "source": [
        "s = pd.Series([10, 20, 30, 40, 50], ['a', 'b', 'c', 'd', 'e'])\n",
        "s['a']"
      ],
      "execution_count": 22,
      "outputs": [
        {
          "output_type": "execute_result",
          "data": {
            "text/plain": [
              "10"
            ]
          },
          "metadata": {
            "tags": []
          },
          "execution_count": 22
        }
      ]
    }
  ]
}